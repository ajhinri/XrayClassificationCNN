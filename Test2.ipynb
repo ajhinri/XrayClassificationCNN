{
 "cells": [
  {
   "cell_type": "code",
   "execution_count": 1,
   "id": "16fdc5a3",
   "metadata": {},
   "outputs": [],
   "source": [
    "import os\n",
    "import numpy as np\n",
    "import pandas as pd\n",
    "from glob import glob\n",
    "from itertools import chain\n",
    "from PIL import Image\n",
    "from sklearn.model_selection import train_test_split\n",
    "\n",
    "import torch\n",
    "import torch.nn as nn\n",
    "from torch.utils.data import Dataset, DataLoader\n",
    "import torchvision.transforms as transforms\n",
    "from torchvision import models\n"
   ]
  },
  {
   "cell_type": "code",
   "execution_count": 2,
   "id": "ddfb0f06",
   "metadata": {},
   "outputs": [],
   "source": [
    "DATA_DIR = r'D:\\NIH Xray Dataset'\n",
    "CSV_PATH = os.path.join(DATA_DIR, 'Data_Entry_2017.csv')\n",
    "IMG_SIZE = 224"
   ]
  },
  {
   "cell_type": "code",
   "execution_count": 4,
   "id": "eaaf096a",
   "metadata": {},
   "outputs": [
    {
     "name": "stdout",
     "output_type": "stream",
     "text": [
      "Total images: 112120\n",
      "Train images: 84090\n",
      "Validation images: 28030\n"
     ]
    }
   ],
   "source": [
    "\n",
    "# ========================\n",
    "# Load and preprocess CSV\n",
    "# ========================\n",
    "df = pd.read_csv(CSV_PATH)\n",
    "\n",
    "# Map image names to file paths\n",
    "all_image_paths = {os.path.basename(x): x for x in glob(os.path.join(DATA_DIR, '**', '*.png'), recursive=True)}\n",
    "df['path'] = df['Image Index'].map(all_image_paths.get)\n",
    "\n",
    "# Extract all labels\n",
    "df['Finding Labels'] = df['Finding Labels'].map(lambda x: x.replace('No Finding', ''))\n",
    "all_labels = np.unique(list(chain(*df['Finding Labels'].map(lambda x: x.split('|')).tolist())))\n",
    "all_labels = [x for x in all_labels if len(x) > 0]\n",
    "\n",
    "# Create multi-label columns\n",
    "for c_label in all_labels:\n",
    "    df[c_label] = df['Finding Labels'].map(lambda finding: 1.0 if c_label in finding else 0.0)\n",
    "\n",
    "# Multi-label vector\n",
    "df['disease_vec'] = df.apply(lambda x: x[all_labels].values, axis=1)\n",
    "\n",
    "# Train-validation split\n",
    "train_df, valid_df = train_test_split(df,\n",
    "                                      test_size=0.25,\n",
    "                                      random_state=2018,\n",
    "                                      stratify=df['Finding Labels'].map(lambda x: x[:4]))\n",
    "\n",
    "\n",
    "### print debug\n",
    "print(f\"Total images: {len(df)}\")\n",
    "print(f\"Train images: {len(train_df)}\")\n",
    "print(f\"Validation images: {len(valid_df)}\")\n",
    "# ========================\n",
    "\n"
   ]
  },
  {
   "cell_type": "code",
   "execution_count": 7,
   "id": "3737e021",
   "metadata": {},
   "outputs": [],
   "source": [
    "# ========================\n",
    "# Dataset & DataLoader\n",
    "# ========================\n",
    "train_transforms = transforms.Compose([\n",
    "    transforms.Grayscale(num_output_channels=3),  # MobileNetV2 expects 3 channels\n",
    "    transforms.Resize((IMG_SIZE, IMG_SIZE)),\n",
    "    transforms.RandomHorizontalFlip(),\n",
    "    transforms.RandomRotation(5),\n",
    "    transforms.ToTensor(),\n",
    "    transforms.Normalize(mean=[0.5]*3, std=[0.5]*3)\n",
    "])\n",
    "\n",
    "valid_transforms = transforms.Compose([\n",
    "    transforms.Grayscale(num_output_channels=3),\n",
    "    transforms.Resize((IMG_SIZE, IMG_SIZE)),\n",
    "    transforms.ToTensor(),\n",
    "    transforms.Normalize(mean=[0.5]*3, std=[0.5]*3)\n",
    "])\n",
    "\n",
    "class ChestXrayDataset(Dataset):\n",
    "    def __init__(self, df, transform=None):\n",
    "        self.df = df\n",
    "        self.transform = transform\n",
    "        self.paths = df['path'].values\n",
    "        # Stack the disease vectors into a 2D NumPy array\n",
    "        self.labels = np.stack(df['disease_vec'].values).astype(np.float32)\n",
    "\n",
    "    def __len__(self):\n",
    "        return len(self.df)\n",
    "\n",
    "    def __getitem__(self, idx):\n",
    "        img_path = self.paths[idx]\n",
    "        img = Image.open(img_path).convert('RGB')\n",
    "        if self.transform:\n",
    "            img = self.transform(img)\n",
    "        label = torch.tensor(self.labels[idx])\n",
    "        return img, label\n",
    "\n",
    "\n",
    "train_dataset = ChestXrayDataset(train_df, transform=train_transforms)\n",
    "valid_dataset = ChestXrayDataset(valid_df, transform=valid_transforms)\n",
    "\n",
    "train_loader = DataLoader(train_dataset, batch_size=32, shuffle=True, num_workers=4)\n",
    "valid_loader = DataLoader(valid_dataset, batch_size=256, shuffle=False, num_workers=4)"
   ]
  },
  {
   "cell_type": "code",
   "execution_count": 8,
   "id": "a4ba0913",
   "metadata": {},
   "outputs": [
    {
     "name": "stdout",
     "output_type": "stream",
     "text": [
      "Using device: cuda\n"
     ]
    }
   ],
   "source": [
    "# ========================\n",
    "# Model: MobileNetV2\n",
    "# ========================\n",
    "device = torch.device(\"cuda\" if torch.cuda.is_available() else \"cpu\")\n",
    "print(\"Using device:\", device)\n",
    "\n",
    "model = models.mobilenet_v2(weights=None)\n",
    "model.classifier[1] = nn.Linear(model.last_channel, len(all_labels))\n",
    "model = model.to(device)\n",
    "\n",
    "criterion = nn.BCEWithLogitsLoss()\n",
    "optimizer = torch.optim.Adam(model.parameters(), lr=1e-4)"
   ]
  },
  {
   "cell_type": "code",
   "execution_count": null,
   "id": "fe2e4826",
   "metadata": {},
   "outputs": [],
   "source": [
    "# ========================\n",
    "# Training Loop\n",
    "# ========================\n",
    "EPOCHS = 5\n",
    "for epoch in range(EPOCHS):\n",
    "    model.train()\n",
    "    running_loss = 0.0\n",
    "\n",
    "    for images, labels in train_loader:\n",
    "        \n",
    "        images, labels = images.to(device), labels.to(device)\n",
    "        optimizer.zero_grad()\n",
    "        outputs = model(images)\n",
    "        loss = criterion(outputs, labels)\n",
    "        loss.backward()\n",
    "        optimizer.step()\n",
    "        running_loss += loss.item() * images.size(0)\n",
    "\n",
    "    epoch_loss = running_loss / len(train_dataset)\n",
    "\n",
    "    # Validation\n",
    "    model.eval()\n",
    "    val_loss = 0.0\n",
    "    with torch.no_grad():\n",
    "        for images, labels in valid_loader:\n",
    "            images, labels = images.to(device), labels.to(device)\n",
    "            outputs = model(images)\n",
    "            loss = criterion(outputs, labels)\n",
    "            val_loss += loss.item() * images.size(0)\n",
    "    val_loss /= len(valid_dataset)\n",
    "\n",
    "    print(f\"Epoch [{epoch+1}/{EPOCHS}] Train Loss: {epoch_loss:.4f}  Val Loss: {val_loss:.4f}\")\n",
    "\n",
    "torch.save(model.state_dict(), \"mobilenetv2_chestxray.pth\")"
   ]
  }
 ],
 "metadata": {
  "kernelspec": {
   "display_name": "Python 3",
   "language": "python",
   "name": "python3"
  },
  "language_info": {
   "codemirror_mode": {
    "name": "ipython",
    "version": 3
   },
   "file_extension": ".py",
   "mimetype": "text/x-python",
   "name": "python",
   "nbconvert_exporter": "python",
   "pygments_lexer": "ipython3",
   "version": "3.10.0"
  }
 },
 "nbformat": 4,
 "nbformat_minor": 5
}
